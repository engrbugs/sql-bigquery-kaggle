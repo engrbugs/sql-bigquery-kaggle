{
 "cells": [
  {
   "cell_type": "code",
   "execution_count": 3,
   "source": [
    "# !pip install -e git+https://github.com/SohierDane/BigQuery_Helper#egg=bq_helper"
   ],
   "outputs": [],
   "metadata": {}
  },
  {
   "cell_type": "code",
   "execution_count": 10,
   "source": [
    "from bq_helper import BigQueryHelper\r\n",
    "import os\r\n",
    "import pandas as pd"
   ],
   "outputs": [],
   "metadata": {}
  },
  {
   "cell_type": "code",
   "execution_count": 5,
   "source": [
    "os.environ[\"GOOGLE_APPLICATION_CREDENTIALS\"] = \"credentials/endless-beach-228506-b15de187c224.json\""
   ],
   "outputs": [],
   "metadata": {}
  },
  {
   "cell_type": "code",
   "execution_count": 6,
   "source": [
    "bq_assistant = BigQueryHelper(active_project=\"bigquery-public-data\", dataset_name=\"chicago_crime\")"
   ],
   "outputs": [],
   "metadata": {}
  },
  {
   "cell_type": "code",
   "execution_count": 7,
   "source": [
    "bq_assistant.list_tables()"
   ],
   "outputs": [
    {
     "output_type": "execute_result",
     "data": {
      "text/plain": [
       "['crime']"
      ]
     },
     "metadata": {},
     "execution_count": 7
    }
   ],
   "metadata": {}
  },
  {
   "cell_type": "code",
   "execution_count": 8,
   "source": [
    "len(bq_assistant.list_tables())"
   ],
   "outputs": [
    {
     "output_type": "execute_result",
     "data": {
      "text/plain": [
       "1"
      ]
     },
     "metadata": {},
     "execution_count": 8
    }
   ],
   "metadata": {}
  },
  {
   "cell_type": "code",
   "execution_count": 11,
   "source": [
    "bq_assistant.table_schema('crime')\r\n",
    "sc = bq_assistant.table_schema('crime')"
   ],
   "outputs": [],
   "metadata": {}
  },
  {
   "cell_type": "code",
   "execution_count": 12,
   "source": [
    "sc"
   ],
   "outputs": [
    {
     "output_type": "execute_result",
     "data": {
      "text/plain": [
       "                    name       type      mode  \\\n",
       "0             unique_key    INTEGER  REQUIRED   \n",
       "1            case_number     STRING  NULLABLE   \n",
       "2                   date  TIMESTAMP  NULLABLE   \n",
       "3                  block     STRING  NULLABLE   \n",
       "4                   iucr     STRING  NULLABLE   \n",
       "5           primary_type     STRING  NULLABLE   \n",
       "6            description     STRING  NULLABLE   \n",
       "7   location_description     STRING  NULLABLE   \n",
       "8                 arrest    BOOLEAN  NULLABLE   \n",
       "9               domestic    BOOLEAN  NULLABLE   \n",
       "10                  beat    INTEGER  NULLABLE   \n",
       "11              district    INTEGER  NULLABLE   \n",
       "12                  ward    INTEGER  NULLABLE   \n",
       "13        community_area    INTEGER  NULLABLE   \n",
       "14              fbi_code     STRING  NULLABLE   \n",
       "15          x_coordinate      FLOAT  NULLABLE   \n",
       "16          y_coordinate      FLOAT  NULLABLE   \n",
       "17                  year    INTEGER  NULLABLE   \n",
       "18            updated_on  TIMESTAMP  NULLABLE   \n",
       "19              latitude      FLOAT  NULLABLE   \n",
       "20             longitude      FLOAT  NULLABLE   \n",
       "21              location     STRING  NULLABLE   \n",
       "\n",
       "                                          description  \n",
       "0                   Unique identifier for the record.  \n",
       "1   The Chicago Police Department RD Number (Recor...  \n",
       "2   Date when the incident occurred. this is somet...  \n",
       "3   The partially redacted address where the incid...  \n",
       "4   The Illinois Unifrom Crime Reporting code. Thi...  \n",
       "5           The primary description of the IUCR code.  \n",
       "6   The secondary description of the IUCR code, a ...  \n",
       "7   Description of the location where the incident...  \n",
       "8               Indicates whether an arrest was made.  \n",
       "9   Indicates whether the incident was domestic-re...  \n",
       "10  Indicates the beat where the incident occurred...  \n",
       "11  Indicates the police district where the incide...  \n",
       "12  The ward (City Council district) where the inc...  \n",
       "13  Indicates the community area where the inciden...  \n",
       "14  Indicates the crime classification as outlined...  \n",
       "15  The x coordinate of the location where the inc...  \n",
       "16  The y coordinate of the location where the inc...  \n",
       "17                        Year the incident occurred.  \n",
       "18         Date and time the record was last updated.  \n",
       "19  The latitude of the location where the inciden...  \n",
       "20  The longitude of the location where the incide...  \n",
       "21  The location where the incident occurred in a ...  "
      ],
      "text/html": [
       "<div>\n",
       "<style scoped>\n",
       "    .dataframe tbody tr th:only-of-type {\n",
       "        vertical-align: middle;\n",
       "    }\n",
       "\n",
       "    .dataframe tbody tr th {\n",
       "        vertical-align: top;\n",
       "    }\n",
       "\n",
       "    .dataframe thead th {\n",
       "        text-align: right;\n",
       "    }\n",
       "</style>\n",
       "<table border=\"1\" class=\"dataframe\">\n",
       "  <thead>\n",
       "    <tr style=\"text-align: right;\">\n",
       "      <th></th>\n",
       "      <th>name</th>\n",
       "      <th>type</th>\n",
       "      <th>mode</th>\n",
       "      <th>description</th>\n",
       "    </tr>\n",
       "  </thead>\n",
       "  <tbody>\n",
       "    <tr>\n",
       "      <th>0</th>\n",
       "      <td>unique_key</td>\n",
       "      <td>INTEGER</td>\n",
       "      <td>REQUIRED</td>\n",
       "      <td>Unique identifier for the record.</td>\n",
       "    </tr>\n",
       "    <tr>\n",
       "      <th>1</th>\n",
       "      <td>case_number</td>\n",
       "      <td>STRING</td>\n",
       "      <td>NULLABLE</td>\n",
       "      <td>The Chicago Police Department RD Number (Recor...</td>\n",
       "    </tr>\n",
       "    <tr>\n",
       "      <th>2</th>\n",
       "      <td>date</td>\n",
       "      <td>TIMESTAMP</td>\n",
       "      <td>NULLABLE</td>\n",
       "      <td>Date when the incident occurred. this is somet...</td>\n",
       "    </tr>\n",
       "    <tr>\n",
       "      <th>3</th>\n",
       "      <td>block</td>\n",
       "      <td>STRING</td>\n",
       "      <td>NULLABLE</td>\n",
       "      <td>The partially redacted address where the incid...</td>\n",
       "    </tr>\n",
       "    <tr>\n",
       "      <th>4</th>\n",
       "      <td>iucr</td>\n",
       "      <td>STRING</td>\n",
       "      <td>NULLABLE</td>\n",
       "      <td>The Illinois Unifrom Crime Reporting code. Thi...</td>\n",
       "    </tr>\n",
       "    <tr>\n",
       "      <th>5</th>\n",
       "      <td>primary_type</td>\n",
       "      <td>STRING</td>\n",
       "      <td>NULLABLE</td>\n",
       "      <td>The primary description of the IUCR code.</td>\n",
       "    </tr>\n",
       "    <tr>\n",
       "      <th>6</th>\n",
       "      <td>description</td>\n",
       "      <td>STRING</td>\n",
       "      <td>NULLABLE</td>\n",
       "      <td>The secondary description of the IUCR code, a ...</td>\n",
       "    </tr>\n",
       "    <tr>\n",
       "      <th>7</th>\n",
       "      <td>location_description</td>\n",
       "      <td>STRING</td>\n",
       "      <td>NULLABLE</td>\n",
       "      <td>Description of the location where the incident...</td>\n",
       "    </tr>\n",
       "    <tr>\n",
       "      <th>8</th>\n",
       "      <td>arrest</td>\n",
       "      <td>BOOLEAN</td>\n",
       "      <td>NULLABLE</td>\n",
       "      <td>Indicates whether an arrest was made.</td>\n",
       "    </tr>\n",
       "    <tr>\n",
       "      <th>9</th>\n",
       "      <td>domestic</td>\n",
       "      <td>BOOLEAN</td>\n",
       "      <td>NULLABLE</td>\n",
       "      <td>Indicates whether the incident was domestic-re...</td>\n",
       "    </tr>\n",
       "    <tr>\n",
       "      <th>10</th>\n",
       "      <td>beat</td>\n",
       "      <td>INTEGER</td>\n",
       "      <td>NULLABLE</td>\n",
       "      <td>Indicates the beat where the incident occurred...</td>\n",
       "    </tr>\n",
       "    <tr>\n",
       "      <th>11</th>\n",
       "      <td>district</td>\n",
       "      <td>INTEGER</td>\n",
       "      <td>NULLABLE</td>\n",
       "      <td>Indicates the police district where the incide...</td>\n",
       "    </tr>\n",
       "    <tr>\n",
       "      <th>12</th>\n",
       "      <td>ward</td>\n",
       "      <td>INTEGER</td>\n",
       "      <td>NULLABLE</td>\n",
       "      <td>The ward (City Council district) where the inc...</td>\n",
       "    </tr>\n",
       "    <tr>\n",
       "      <th>13</th>\n",
       "      <td>community_area</td>\n",
       "      <td>INTEGER</td>\n",
       "      <td>NULLABLE</td>\n",
       "      <td>Indicates the community area where the inciden...</td>\n",
       "    </tr>\n",
       "    <tr>\n",
       "      <th>14</th>\n",
       "      <td>fbi_code</td>\n",
       "      <td>STRING</td>\n",
       "      <td>NULLABLE</td>\n",
       "      <td>Indicates the crime classification as outlined...</td>\n",
       "    </tr>\n",
       "    <tr>\n",
       "      <th>15</th>\n",
       "      <td>x_coordinate</td>\n",
       "      <td>FLOAT</td>\n",
       "      <td>NULLABLE</td>\n",
       "      <td>The x coordinate of the location where the inc...</td>\n",
       "    </tr>\n",
       "    <tr>\n",
       "      <th>16</th>\n",
       "      <td>y_coordinate</td>\n",
       "      <td>FLOAT</td>\n",
       "      <td>NULLABLE</td>\n",
       "      <td>The y coordinate of the location where the inc...</td>\n",
       "    </tr>\n",
       "    <tr>\n",
       "      <th>17</th>\n",
       "      <td>year</td>\n",
       "      <td>INTEGER</td>\n",
       "      <td>NULLABLE</td>\n",
       "      <td>Year the incident occurred.</td>\n",
       "    </tr>\n",
       "    <tr>\n",
       "      <th>18</th>\n",
       "      <td>updated_on</td>\n",
       "      <td>TIMESTAMP</td>\n",
       "      <td>NULLABLE</td>\n",
       "      <td>Date and time the record was last updated.</td>\n",
       "    </tr>\n",
       "    <tr>\n",
       "      <th>19</th>\n",
       "      <td>latitude</td>\n",
       "      <td>FLOAT</td>\n",
       "      <td>NULLABLE</td>\n",
       "      <td>The latitude of the location where the inciden...</td>\n",
       "    </tr>\n",
       "    <tr>\n",
       "      <th>20</th>\n",
       "      <td>longitude</td>\n",
       "      <td>FLOAT</td>\n",
       "      <td>NULLABLE</td>\n",
       "      <td>The longitude of the location where the incide...</td>\n",
       "    </tr>\n",
       "    <tr>\n",
       "      <th>21</th>\n",
       "      <td>location</td>\n",
       "      <td>STRING</td>\n",
       "      <td>NULLABLE</td>\n",
       "      <td>The location where the incident occurred in a ...</td>\n",
       "    </tr>\n",
       "  </tbody>\n",
       "</table>\n",
       "</div>"
      ]
     },
     "metadata": {},
     "execution_count": 12
    }
   ],
   "metadata": {}
  },
  {
   "cell_type": "code",
   "execution_count": 13,
   "source": [
    "df = pd.DataFrame(sc)"
   ],
   "outputs": [],
   "metadata": {}
  },
  {
   "cell_type": "code",
   "execution_count": 18,
   "source": [
    "len(df.loc[df['type'] == 'TIMESTAMP'])"
   ],
   "outputs": [
    {
     "output_type": "execute_result",
     "data": {
      "text/plain": [
       "2"
      ]
     },
     "metadata": {},
     "execution_count": 18
    }
   ],
   "metadata": {}
  },
  {
   "cell_type": "code",
   "execution_count": 22,
   "source": [
    "df['type']"
   ],
   "outputs": [
    {
     "output_type": "execute_result",
     "data": {
      "text/plain": [
       "0       INTEGER\n",
       "1        STRING\n",
       "2     TIMESTAMP\n",
       "3        STRING\n",
       "4        STRING\n",
       "5        STRING\n",
       "6        STRING\n",
       "7        STRING\n",
       "8       BOOLEAN\n",
       "9       BOOLEAN\n",
       "10      INTEGER\n",
       "11      INTEGER\n",
       "12      INTEGER\n",
       "13      INTEGER\n",
       "14       STRING\n",
       "15        FLOAT\n",
       "16        FLOAT\n",
       "17      INTEGER\n",
       "18    TIMESTAMP\n",
       "19        FLOAT\n",
       "20        FLOAT\n",
       "21       STRING\n",
       "Name: type, dtype: object"
      ]
     },
     "metadata": {},
     "execution_count": 22
    }
   ],
   "metadata": {}
  },
  {
   "cell_type": "code",
   "execution_count": 23,
   "source": [
    "fields_for_plotting = ['latitude', 'longitude']"
   ],
   "outputs": [],
   "metadata": {}
  },
  {
   "cell_type": "code",
   "execution_count": null,
   "source": [],
   "outputs": [],
   "metadata": {}
  }
 ],
 "metadata": {
  "orig_nbformat": 4,
  "language_info": {
   "name": "python",
   "version": "3.8.8",
   "mimetype": "text/x-python",
   "codemirror_mode": {
    "name": "ipython",
    "version": 3
   },
   "pygments_lexer": "ipython3",
   "nbconvert_exporter": "python",
   "file_extension": ".py"
  },
  "kernelspec": {
   "name": "python3",
   "display_name": "Python 3.8.8 64-bit ('base': conda)"
  },
  "interpreter": {
   "hash": "501d5a780e364ab3245df8e9e83c2085a409f5e4d48d604ea04f5751dbf8dc91"
  }
 },
 "nbformat": 4,
 "nbformat_minor": 2
}